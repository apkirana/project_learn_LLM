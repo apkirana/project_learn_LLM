{
 "cells": [
  {
   "cell_type": "code",
   "execution_count": 94,
   "metadata": {},
   "outputs": [],
   "source": [
    "import pandas as pd\n",
    "import numpy as np\n",
    "from sklearn.ensemble import RandomForestRegressor\n",
    "from sklearn.inspection import permutation_importance\n",
    "import textwrap\n",
    "import requests  # For making API calls\n",
    "import os\n",
    "from dotenv import load_dotenv\n",
    "import openai"
   ]
  },
  {
   "cell_type": "code",
   "execution_count": 95,
   "metadata": {},
   "outputs": [],
   "source": [
    "# --- Load API Key (from .env file or environment variables)---\n",
    "load_dotenv()  # take environment variables from .env.\n",
    "api_key = os.getenv(\"OPENAI_API_KEY\")  # Recommend using a .env file\n",
    "\n",
    "if api_key is None:\n",
    "    raise ValueError(\"API key for OPEN AI is not set.  \"\n",
    "                     \"Set it in a .env file or as an environment variable.\")\n"
   ]
  },
  {
   "cell_type": "code",
   "execution_count": 96,
   "metadata": {},
   "outputs": [],
   "source": [
    "# --- 1. Simulated User Input (Data Loading) ---\n",
    "def simulate_satellite_data(num_points=100):\n",
    "    #Same function from previous answer)\n",
    "    np.random.seed(42)\n",
    "    data = {\n",
    "        'latitude': np.random.uniform(30, 50, num_points),\n",
    "        'longitude': np.random.uniform(-125, -70, num_points),\n",
    "        'ndvi': np.random.rand(num_points),\n",
    "    }\n",
    "    data['ndvi'] += 0.2 * np.sin(data['latitude'] * np.pi / 180)\n",
    "    data['ndvi'] = np.clip(data['ndvi'], 0, 1)\n",
    "    return pd.DataFrame(data)\n"
   ]
  },
  {
   "cell_type": "code",
   "execution_count": 97,
   "metadata": {},
   "outputs": [],
   "source": [
    "# --- MODIFIED: Function to call the OpenAI API (Corrected for v1.0.0+) ---\n",
    "def call_openai(prompt, model=\"gpt-3.5-turbo\"):\n",
    "    \"\"\"Calls the OpenAI API (Chat Completions - Corrected for v1.0.0+).\"\"\"\n",
    "    try:\n",
    "        client = openai.OpenAI() # Use the client for openai>=1.0.0\n",
    "        response = client.chat.completions.create(\n",
    "            model=model,\n",
    "            messages=[\n",
    "                {\"role\": \"system\", \"content\": \"You are a helpful assistant.\"},\n",
    "                {\"role\": \"user\", \"content\": prompt},\n",
    "            ],\n",
    "            max_tokens=350,\n",
    "            n=1,\n",
    "            stop=None,\n",
    "            temperature=0.7,\n",
    "        )\n",
    "        return response.choices[0].message.content.strip()\n",
    "\n",
    "    except openai.OpenAIError as e: #Corrected exception class\n",
    "        print(f\"OpenAI API error: {e}\")\n",
    "        return None"
   ]
  },
  {
   "cell_type": "code",
   "execution_count": 98,
   "metadata": {},
   "outputs": [
    {
     "name": "stdout",
     "output_type": "stream",
     "text": [
      "----------------------------------------\n",
      "  Geospatial Analysis System (Simulated)\n",
      "----------------------------------------\n",
      "\n",
      "User Query: What is the size of the vegetation area?\n",
      "\n",
      "Simulated Input Data (First 5 Rows):\n",
      "    latitude   longitude      ndvi\n",
      "0  37.490802 -123.271395  0.763758\n",
      "1  49.014286  -89.997427  0.235115\n",
      "2  44.639879 -107.710421  0.302158\n",
      "3  41.973170  -97.028612  1.000000\n",
      "4  33.120373  -75.083844  0.715709\n"
     ]
    }
   ],
   "source": [
    "# --- 2. LLM Agent (Task Understanding and Code Generation - Simulated) ---\n",
    "# Simulate LLM agent data retrieval\n",
    "df = simulate_satellite_data()\n",
    "print(\"-\" * 40)\n",
    "print(\"  Geospatial Analysis System (Simulated)\")\n",
    "print(\"-\" * 40)\n",
    "print(\"\\nUser Query: What is the size of the vegetation area?\")\n",
    "print(\"\\nSimulated Input Data (First 5 Rows):\")\n",
    "print(df.head())\n",
    "\n",
    "model = RandomForestRegressor(n_estimators=50, random_state=42)\n",
    "model.fit(df[['latitude', 'longitude']], df['ndvi'])\n",
    "\n",
    "results = permutation_importance(\n",
    "    model, df[['latitude', 'longitude']], df['ndvi'],\n",
    "    n_repeats=10, random_state=42\n",
    ")\n",
    "importance = results.importances_mean"
   ]
  },
  {
   "cell_type": "code",
   "execution_count": 99,
   "metadata": {},
   "outputs": [],
   "source": [
    "# --- Prompt (Slightly adjusted) ---\n",
    "prompt = f\"\"\"\n",
    "You are a geospatial analysis assistant. A user has asked:\n",
    "\"What is the size of the vegetation area?\"\n",
    "\n",
    "We've used a SIMPLIFIED model with latitude, longitude, and simulated NDVI\n",
    "to estimate vegetation. A real analysis would use satellite imagery.  We\n",
    "calculated feature importances:\n",
    "\n",
    "Latitude Importance: {importance[0]:.4f}\n",
    "Longitude Importance: {importance[1]:.4f}\n",
    "\n",
    "Explain these results in simple terms. What does feature importance mean in\n",
    "this context?  Based on these importances, is location strongly or weakly\n",
    "related to vegetation? Acknowledge the simplification. DO NOT invent a\n",
    "specific area size. Explain *why* latitude/longitude MIGHT influence\n",
    "vegetation (climate, sunlight, etc.).  Be concise and factual.\n",
    "\"\"\"\n"
   ]
  },
  {
   "cell_type": "code",
   "execution_count": 100,
   "metadata": {},
   "outputs": [
    {
     "name": "stdout",
     "output_type": "stream",
     "text": [
      "\n",
      "--- LLM Agent Response ---\n",
      "\n",
      "Prompt:\n",
      "\n",
      " You are a geospatial analysis assistant. A user has asked: \"What is the size of\n",
      "the vegetation area?\"  We've used a SIMPLIFIED model with latitude, longitude,\n",
      "and simulated NDVI to estimate vegetation. A real analysis would use satellite\n",
      "imagery.  We calculated feature importances:  Latitude Importance: 0.7208\n",
      "Longitude Importance: 0.7737  Explain these results in simple terms. What does\n",
      "feature importance mean in this context?  Based on these importances, is\n",
      "location strongly or weakly related to vegetation? Acknowledge the\n",
      "simplification. DO NOT invent a specific area size. Explain *why*\n",
      "latitude/longitude MIGHT influence vegetation (climate, sunlight, etc.).  Be\n",
      "concise and factual.\n",
      "\n",
      "Explanation:\n",
      "\n",
      "Feature importance in this context refers to how much each factor (latitude and\n",
      "longitude) contributes to predicting the size of the vegetation area, as\n",
      "indicated by the simulated NDVI (Normalized Difference Vegetation Index). Higher\n",
      "importance values suggest that those factors have a stronger influence on the\n",
      "vegetation estimates.  In your results, both latitude (0.7208) and longitude\n",
      "(0.7737) have relatively high importance scores. This indicates that location is\n",
      "strongly related to vegetation in your simplified model. The longitude\n",
      "importance is slightly higher than latitude, suggesting that the east-west\n",
      "position may have a somewhat greater effect on vegetation than the north-south\n",
      "position.  The influence of latitude and longitude on vegetation can be\n",
      "attributed to several factors: - **Latitude** affects climate conditions, such\n",
      "as temperature and precipitation patterns, which are crucial for plant growth. -\n",
      "**Longitude** often correlates with different climatic zones and can influence\n",
      "sunlight availability, soil types, and other environmental factors.  Overall,\n",
      "while this model provides insights into the relationship between location and\n",
      "vegetation, it simplifies the complexity of real-world vegetation analysis,\n",
      "which would ideally involve detailed satellite imagery and additional\n",
      "environmental data.\n",
      "\n",
      "--- xAI Geospatial Results ---\n",
      "\n",
      "Feature Importance:\n",
      "  Latitude:  0.7208\n",
      "  Longitude: 0.7737\n",
      "\n",
      "--- End of Simulation ---\n"
     ]
    }
   ],
   "source": [
    "\n",
    "# --- Call the OpenAI API ---\n",
    "explanation_raw = call_openai(prompt, model=\"gpt-4o-mini\")  # Or \"gpt-4\"\n",
    "\n",
    "if explanation_raw:\n",
    "    wrapper = textwrap.TextWrapper(width=80)\n",
    "    explanation_wrapped = wrapper.fill(text=explanation_raw)\n",
    "\n",
    "    print(\"\\n--- LLM Agent Response ---\")\n",
    "    print(\"\\nPrompt:\\n\")\n",
    "    print(wrapper.fill(text=prompt))\n",
    "\n",
    "    print(\"\\nExplanation:\\n\")\n",
    "    print(explanation_wrapped)\n",
    "else:\n",
    "    print(\"\\n--- LLM Agent Response ---\")\n",
    "    print(\"\\nError: Could not retrieve explanation from OpenAI API.\")\n",
    "\n",
    "print(\"\\n--- xAI Geospatial Results ---\")\n",
    "print(\"\\nFeature Importance:\")\n",
    "print(f\"  Latitude:  {importance[0]:.4f}\")\n",
    "print(f\"  Longitude: {importance[1]:.4f}\")\n",
    "print(\"\\n--- End of Simulation ---\")"
   ]
  },
  {
   "cell_type": "code",
   "execution_count": null,
   "metadata": {},
   "outputs": [],
   "source": []
  }
 ],
 "metadata": {
  "kernelspec": {
   "display_name": ".venv",
   "language": "python",
   "name": "python3"
  },
  "language_info": {
   "codemirror_mode": {
    "name": "ipython",
    "version": 3
   },
   "file_extension": ".py",
   "mimetype": "text/x-python",
   "name": "python",
   "nbconvert_exporter": "python",
   "pygments_lexer": "ipython3",
   "version": "3.9.6"
  }
 },
 "nbformat": 4,
 "nbformat_minor": 2
}
